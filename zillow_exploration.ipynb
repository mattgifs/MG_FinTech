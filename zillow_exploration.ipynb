{
 "cells": [
  {
   "cell_type": "code",
   "execution_count": 2,
   "id": "5a8c4166-bfeb-4e5d-a173-95aeb90fe8b3",
   "metadata": {},
   "outputs": [],
   "source": [
    "# Initial imports\n",
    "import os\n",
    "import requests\n",
    "import pandas as pd\n",
    "from dotenv import load_dotenv\n",
    "import json\n",
    "import time\n",
    "import quandl as qd\n",
    "\n",
    "%matplotlib inline"
   ]
  },
  {
   "cell_type": "code",
   "execution_count": 3,
   "id": "a868280e-4d51-493d-a790-6812737e10ba",
   "metadata": {},
   "outputs": [
    {
     "data": {
      "text/plain": [
       "True"
      ]
     },
     "execution_count": 3,
     "metadata": {},
     "output_type": "execute_result"
    }
   ],
   "source": [
    "# Load .env enviroment variables\n",
    "load_dotenv()"
   ]
  },
  {
   "cell_type": "code",
   "execution_count": 4,
   "id": "017e9b06-5586-43b4-8af9-bfd3d93ff9e8",
   "metadata": {},
   "outputs": [],
   "source": [
    "#Zillow API URLs\n",
    "NASDAQ_API_KEY = '?&api_key=Hxc-vj2V4iBzuusYo__Q'\n",
    "json_mod = '?format=json'\n",
    "\n",
    "indicators_url = 'https://data.nasdaq.com/api/v3/datatables/ZILLOW/INDICATORS'\n",
    "data_url = 'https://data.nasdaq.com/api/v3/datatables/ZILLOW/DATA'\n",
    "regions_url = 'https://data.nasdaq.com/api/v3/datatables/ZILLOW/REGIONS'\n",
    "\n",
    "indicators_url = indicators_url + NASDAQ_API_KEY + json_mod\n",
    "data_url = data_url + NASDAQ_API_KEY + json_mod\n",
    "regions_url = regions_url + NASDAQ_API_KEY + json_mod"
   ]
  },
  {
   "cell_type": "code",
   "execution_count": 5,
   "id": "2e24fe4e-f88b-425a-9b48-74d073c46fb1",
   "metadata": {},
   "outputs": [
    {
     "data": {
      "text/plain": [
       "'https://data.nasdaq.com/api/v3/datatables/ZILLOW/INDICATORS?&api_key=Hxc-vj2V4iBzuusYo__Q?format=json'"
      ]
     },
     "execution_count": 5,
     "metadata": {},
     "output_type": "execute_result"
    }
   ],
   "source": [
    "indicators_url"
   ]
  },
  {
   "cell_type": "code",
   "execution_count": 6,
   "id": "eecc3cd5-d88c-4233-96e5-554496959093",
   "metadata": {
    "tags": []
   },
   "outputs": [
    {
     "data": {
      "text/html": [
       "<div>\n",
       "<style scoped>\n",
       "    .dataframe tbody tr th:only-of-type {\n",
       "        vertical-align: middle;\n",
       "    }\n",
       "\n",
       "    .dataframe tbody tr th {\n",
       "        vertical-align: top;\n",
       "    }\n",
       "\n",
       "    .dataframe thead th {\n",
       "        text-align: right;\n",
       "    }\n",
       "</style>\n",
       "<table border=\"1\" class=\"dataframe\">\n",
       "  <thead>\n",
       "    <tr style=\"text-align: right;\">\n",
       "      <th></th>\n",
       "      <th>ind_full</th>\n",
       "      <th>ind_desc</th>\n",
       "    </tr>\n",
       "    <tr>\n",
       "      <th>ind_code</th>\n",
       "      <th></th>\n",
       "      <th></th>\n",
       "    </tr>\n",
       "  </thead>\n",
       "  <tbody>\n",
       "    <tr>\n",
       "      <th>ZSFH</th>\n",
       "      <td>ZHVI Single-Family Homes Time Series ($)</td>\n",
       "      <td>Home values</td>\n",
       "    </tr>\n",
       "    <tr>\n",
       "      <th>ZCON</th>\n",
       "      <td>ZHVI Condo/Co-op Time Series ($)</td>\n",
       "      <td>Home values</td>\n",
       "    </tr>\n",
       "    <tr>\n",
       "      <th>ZATT</th>\n",
       "      <td>ZHVI All Homes- Top Tier Time Series ($)</td>\n",
       "      <td>Home values</td>\n",
       "    </tr>\n",
       "    <tr>\n",
       "      <th>ZALL</th>\n",
       "      <td>ZHVI All Homes (SFR, Condo/Co-op) Time Series ($)</td>\n",
       "      <td>Home values</td>\n",
       "    </tr>\n",
       "    <tr>\n",
       "      <th>ZABT</th>\n",
       "      <td>ZHVI All Homes- Bottom Tier Time Series ($)</td>\n",
       "      <td>Home values</td>\n",
       "    </tr>\n",
       "  </tbody>\n",
       "</table>\n",
       "</div>"
      ],
      "text/plain": [
       "                                                   ind_full     ind_desc\n",
       "ind_code                                                                \n",
       "ZSFH               ZHVI Single-Family Homes Time Series ($)  Home values\n",
       "ZCON                       ZHVI Condo/Co-op Time Series ($)  Home values\n",
       "ZATT               ZHVI All Homes- Top Tier Time Series ($)  Home values\n",
       "ZALL      ZHVI All Homes (SFR, Condo/Co-op) Time Series ($)  Home values\n",
       "ZABT            ZHVI All Homes- Bottom Tier Time Series ($)  Home values"
      ]
     },
     "execution_count": 6,
     "metadata": {},
     "output_type": "execute_result"
    }
   ],
   "source": [
    "# Fetch and format indicator table\n",
    "#API get\n",
    "ind_response = requests.get(indicators_url)\n",
    "\n",
    "#retreive data as json\n",
    "ind_response_data = ind_response.json()\n",
    "\n",
    "#json dump to enable use in dataframe\n",
    "ind_response_dump = json.dumps(ind_response_data['datatable']['data'])\n",
    "\n",
    "#read into dataframe\n",
    "df_indicators = pd.read_json(ind_response_dump)\n",
    "\n",
    "#set column names\n",
    "df_indicators.columns = ['ind_code','ind_full','ind_desc']\n",
    "\n",
    "#set index to unique ind_code\n",
    "df_indicators.set_index('ind_code', inplace=True)\n",
    "\n",
    "#preview df\n",
    "df_indicators.head()"
   ]
  },
  {
   "cell_type": "code",
   "execution_count": 7,
   "id": "c1600d2d-8dda-4fb1-befd-5f2f14586beb",
   "metadata": {},
   "outputs": [],
   "source": [
    "qd.ApiConfig.api_key = NASDAQ_API_KEY"
   ]
  },
  {
   "cell_type": "code",
   "execution_count": 8,
   "id": "aac96a67-9cf4-4c45-b73f-31330bacbc21",
   "metadata": {},
   "outputs": [
    {
     "ename": "LimitExceededError",
     "evalue": "(Status 429) (Quandl Error QELx04) You have exceeded the API speed limit of 20 calls per 10 minutes. Please slow down your requests.",
     "output_type": "error",
     "traceback": [
      "\u001b[1;31m----------------------------------------------------------------------\u001b[0m",
      "\u001b[1;31mLimitExceededError\u001b[0m                   Traceback (most recent call last)",
      "Cell \u001b[1;32mIn[8], line 1\u001b[0m\n\u001b[1;32m----> 1\u001b[0m test \u001b[38;5;241m=\u001b[39m \u001b[43mqd\u001b[49m\u001b[38;5;241;43m.\u001b[39;49m\u001b[43mget_table\u001b[49m\u001b[43m(\u001b[49m\u001b[38;5;124;43m'\u001b[39;49m\u001b[38;5;124;43mZILLOW/DATA\u001b[39;49m\u001b[38;5;124;43m'\u001b[39;49m\u001b[43m,\u001b[49m\u001b[43mpaginate\u001b[49m\u001b[38;5;241;43m=\u001b[39;49m\u001b[38;5;28;43;01mTrue\u001b[39;49;00m\u001b[43m)\u001b[49m\n",
      "File \u001b[1;32m~\\anaconda3\\envs\\dev\\lib\\site-packages\\quandl\\get_table.py:19\u001b[0m, in \u001b[0;36mget_table\u001b[1;34m(datatable_code, **options)\u001b[0m\n\u001b[0;32m     17\u001b[0m \u001b[38;5;28;01mwhile\u001b[39;00m \u001b[38;5;28;01mTrue\u001b[39;00m:\n\u001b[0;32m     18\u001b[0m     next_options \u001b[38;5;241m=\u001b[39m copy\u001b[38;5;241m.\u001b[39mdeepcopy(options)\n\u001b[1;32m---> 19\u001b[0m     next_data \u001b[38;5;241m=\u001b[39m \u001b[43mDatatable\u001b[49m\u001b[43m(\u001b[49m\u001b[43mdatatable_code\u001b[49m\u001b[43m)\u001b[49m\u001b[38;5;241;43m.\u001b[39;49m\u001b[43mdata\u001b[49m\u001b[43m(\u001b[49m\u001b[43mparams\u001b[49m\u001b[38;5;241;43m=\u001b[39;49m\u001b[43mnext_options\u001b[49m\u001b[43m)\u001b[49m\n\u001b[0;32m     21\u001b[0m     \u001b[38;5;28;01mif\u001b[39;00m data \u001b[38;5;129;01mis\u001b[39;00m \u001b[38;5;28;01mNone\u001b[39;00m:\n\u001b[0;32m     22\u001b[0m         data \u001b[38;5;241m=\u001b[39m next_data\n",
      "File \u001b[1;32m~\\anaconda3\\envs\\dev\\lib\\site-packages\\quandl\\model\\datatable.py:31\u001b[0m, in \u001b[0;36mDatatable.data\u001b[1;34m(self, **options)\u001b[0m\n\u001b[0;32m     29\u001b[0m \u001b[38;5;28;01mif\u001b[39;00m \u001b[38;5;129;01mnot\u001b[39;00m options:\n\u001b[0;32m     30\u001b[0m     options \u001b[38;5;241m=\u001b[39m {\u001b[38;5;124m'\u001b[39m\u001b[38;5;124mparams\u001b[39m\u001b[38;5;124m'\u001b[39m: {}}\n\u001b[1;32m---> 31\u001b[0m \u001b[38;5;28;01mreturn\u001b[39;00m Data\u001b[38;5;241m.\u001b[39mpage(\u001b[38;5;28mself\u001b[39m, \u001b[38;5;241m*\u001b[39m\u001b[38;5;241m*\u001b[39moptions)\n",
      "File \u001b[1;32m~\\anaconda3\\envs\\dev\\lib\\site-packages\\quandl\\operations\\list.py:30\u001b[0m, in \u001b[0;36mListOperation.page\u001b[1;34m(cls, datatable, **options)\u001b[0m\n\u001b[0;32m     26\u001b[0m request_type \u001b[38;5;241m=\u001b[39m RequestType\u001b[38;5;241m.\u001b[39mget_request_type(path, \u001b[38;5;241m*\u001b[39m\u001b[38;5;241m*\u001b[39moptions)\n\u001b[0;32m     28\u001b[0m updated_options \u001b[38;5;241m=\u001b[39m Util\u001b[38;5;241m.\u001b[39mconvert_options(request_type\u001b[38;5;241m=\u001b[39mrequest_type, \u001b[38;5;241m*\u001b[39m\u001b[38;5;241m*\u001b[39moptions)\n\u001b[1;32m---> 30\u001b[0m r \u001b[38;5;241m=\u001b[39m Connection\u001b[38;5;241m.\u001b[39mrequest(request_type, path, \u001b[38;5;241m*\u001b[39m\u001b[38;5;241m*\u001b[39mupdated_options)\n\u001b[0;32m     32\u001b[0m response_data \u001b[38;5;241m=\u001b[39m r\u001b[38;5;241m.\u001b[39mjson()\n\u001b[0;32m     33\u001b[0m Util\u001b[38;5;241m.\u001b[39mconvert_to_dates(response_data)\n",
      "File \u001b[1;32m~\\anaconda3\\envs\\dev\\lib\\site-packages\\quandl\\connection.py:38\u001b[0m, in \u001b[0;36mConnection.request\u001b[1;34m(cls, http_verb, url, **options)\u001b[0m\n\u001b[0;32m     34\u001b[0m options[\u001b[38;5;124m'\u001b[39m\u001b[38;5;124mheaders\u001b[39m\u001b[38;5;124m'\u001b[39m] \u001b[38;5;241m=\u001b[39m headers\n\u001b[0;32m     36\u001b[0m abs_url \u001b[38;5;241m=\u001b[39m \u001b[38;5;124m'\u001b[39m\u001b[38;5;132;01m%s\u001b[39;00m\u001b[38;5;124m/\u001b[39m\u001b[38;5;132;01m%s\u001b[39;00m\u001b[38;5;124m'\u001b[39m \u001b[38;5;241m%\u001b[39m (ApiConfig\u001b[38;5;241m.\u001b[39mapi_base, url)\n\u001b[1;32m---> 38\u001b[0m \u001b[38;5;28;01mreturn\u001b[39;00m \u001b[38;5;28mcls\u001b[39m\u001b[38;5;241m.\u001b[39mexecute_request(http_verb, abs_url, \u001b[38;5;241m*\u001b[39m\u001b[38;5;241m*\u001b[39moptions)\n",
      "File \u001b[1;32m~\\anaconda3\\envs\\dev\\lib\\site-packages\\quandl\\connection.py:50\u001b[0m, in \u001b[0;36mConnection.execute_request\u001b[1;34m(cls, http_verb, url, **options)\u001b[0m\n\u001b[0;32m     45\u001b[0m response \u001b[38;5;241m=\u001b[39m session\u001b[38;5;241m.\u001b[39mrequest(method\u001b[38;5;241m=\u001b[39mhttp_verb,\n\u001b[0;32m     46\u001b[0m                            url\u001b[38;5;241m=\u001b[39murl,\n\u001b[0;32m     47\u001b[0m                            verify\u001b[38;5;241m=\u001b[39mApiConfig\u001b[38;5;241m.\u001b[39mverify_ssl,\n\u001b[0;32m     48\u001b[0m                            \u001b[38;5;241m*\u001b[39m\u001b[38;5;241m*\u001b[39moptions)\n\u001b[0;32m     49\u001b[0m \u001b[38;5;28;01mif\u001b[39;00m response\u001b[38;5;241m.\u001b[39mstatus_code \u001b[38;5;241m<\u001b[39m \u001b[38;5;241m200\u001b[39m \u001b[38;5;129;01mor\u001b[39;00m response\u001b[38;5;241m.\u001b[39mstatus_code \u001b[38;5;241m>\u001b[39m\u001b[38;5;241m=\u001b[39m \u001b[38;5;241m300\u001b[39m:\n\u001b[1;32m---> 50\u001b[0m     \u001b[38;5;28;43mcls\u001b[39;49m\u001b[38;5;241;43m.\u001b[39;49m\u001b[43mhandle_api_error\u001b[49m\u001b[43m(\u001b[49m\u001b[43mresponse\u001b[49m\u001b[43m)\u001b[49m\n\u001b[0;32m     51\u001b[0m \u001b[38;5;28;01melse\u001b[39;00m:\n\u001b[0;32m     52\u001b[0m     \u001b[38;5;28;01mreturn\u001b[39;00m response\n",
      "File \u001b[1;32m~\\anaconda3\\envs\\dev\\lib\\site-packages\\quandl\\connection.py:114\u001b[0m, in \u001b[0;36mConnection.handle_api_error\u001b[1;34m(cls, resp)\u001b[0m\n\u001b[0;32m    103\u001b[0m d_klass \u001b[38;5;241m=\u001b[39m {\n\u001b[0;32m    104\u001b[0m     \u001b[38;5;124m'\u001b[39m\u001b[38;5;124mL\u001b[39m\u001b[38;5;124m'\u001b[39m: LimitExceededError,\n\u001b[0;32m    105\u001b[0m     \u001b[38;5;124m'\u001b[39m\u001b[38;5;124mM\u001b[39m\u001b[38;5;124m'\u001b[39m: InternalServerError,\n\u001b[1;32m   (...)\u001b[0m\n\u001b[0;32m    110\u001b[0m     \u001b[38;5;124m'\u001b[39m\u001b[38;5;124mX\u001b[39m\u001b[38;5;124m'\u001b[39m: ServiceUnavailableError\n\u001b[0;32m    111\u001b[0m }\n\u001b[0;32m    112\u001b[0m klass \u001b[38;5;241m=\u001b[39m d_klass\u001b[38;5;241m.\u001b[39mget(code_letter, QuandlError)\n\u001b[1;32m--> 114\u001b[0m \u001b[38;5;28;01mraise\u001b[39;00m klass(message, resp\u001b[38;5;241m.\u001b[39mstatus_code, resp\u001b[38;5;241m.\u001b[39mtext, resp\u001b[38;5;241m.\u001b[39mheaders, code)\n",
      "\u001b[1;31mLimitExceededError\u001b[0m: (Status 429) (Quandl Error QELx04) You have exceeded the API speed limit of 20 calls per 10 minutes. Please slow down your requests."
     ]
    }
   ],
   "source": [
    "test = qd.get_table('ZILLOW/DATA',paginate=True)"
   ]
  },
  {
   "cell_type": "code",
   "execution_count": null,
   "id": "b100027b-a0b2-49d6-a59a-50db7dcce56e",
   "metadata": {},
   "outputs": [],
   "source": []
  },
  {
   "cell_type": "code",
   "execution_count": null,
   "id": "11c637bd-c885-4be9-9bc6-02b5b842eb55",
   "metadata": {},
   "outputs": [],
   "source": []
  }
 ],
 "metadata": {
  "kernelspec": {
   "display_name": "Python 3 (ipykernel)",
   "language": "python",
   "name": "python3"
  },
  "language_info": {
   "codemirror_mode": {
    "name": "ipython",
    "version": 3
   },
   "file_extension": ".py",
   "mimetype": "text/x-python",
   "name": "python",
   "nbconvert_exporter": "python",
   "pygments_lexer": "ipython3",
   "version": "3.10.10"
  }
 },
 "nbformat": 4,
 "nbformat_minor": 5
}
