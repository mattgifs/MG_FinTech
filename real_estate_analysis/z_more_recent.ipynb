{
 "cells": [
  {
   "cell_type": "code",
   "execution_count": 5,
   "id": "8d36a1f8-098d-42fd-9019-ffdd2e324925",
   "metadata": {},
   "outputs": [],
   "source": [
    " # Initial imports\n",
    "import pandas as pd\n",
    "import hvplot.pandas\n",
    "from sqlalchemy import create_engine, Column, String\n",
    "from sqlalchemy.orm import sessionmaker\n",
    "from sqlalchemy.ext.declarative import declarative_base\n",
    "import holoviews as hv\n",
    "from bokeh.models import HoverTool, NumeralTickFormatter\n",
    "import quandl\n",
    "import psycopg2\n",
    "import streamlit as st"
   ]
  },
  {
   "cell_type": "markdown",
   "id": "bc1cc1e3-5e5d-4e5c-bcc4-5361e470c271",
   "metadata": {},
   "source": [
    "I would like to bypass the database aspect of the previous trials. Select a location and a metric, and then pull the data directly from the API. \n",
    "Have to pull available locations and available metrics first, at the very least. Then I would query the data table from the API specifically for those values."
   ]
  },
  {
   "cell_type": "code",
   "execution_count": 12,
   "id": "cced6751-c457-4fda-9e49-3702ace7cd46",
   "metadata": {},
   "outputs": [],
   "source": [
    "# Retrieve data from Quandl API\n",
    "quandl.ApiConfig.api_key = 'Hxc-vj2V4iBzuusYo__Q'"
   ]
  },
  {
   "cell_type": "code",
   "execution_count": 66,
   "id": "6bb56781-c204-4844-b983-d676c0759d7f",
   "metadata": {
    "tags": []
   },
   "outputs": [],
   "source": [
    "regions = quandl.get_table('ZILLOW/REGIONS',region_type = 'state')\n",
    "regions = regions.sort_values('region')\n",
    "regions = regions.set_index('region_id')"
   ]
  },
  {
   "cell_type": "code",
   "execution_count": 67,
   "id": "9a845144-e1f1-43ad-a1ba-6ddd3d4d4754",
   "metadata": {
    "tags": []
   },
   "outputs": [
    {
     "data": {
      "text/html": [
       "<div>\n",
       "<style scoped>\n",
       "    .dataframe tbody tr th:only-of-type {\n",
       "        vertical-align: middle;\n",
       "    }\n",
       "\n",
       "    .dataframe tbody tr th {\n",
       "        vertical-align: top;\n",
       "    }\n",
       "\n",
       "    .dataframe thead th {\n",
       "        text-align: right;\n",
       "    }\n",
       "</style>\n",
       "<table border=\"1\" class=\"dataframe\">\n",
       "  <thead>\n",
       "    <tr style=\"text-align: right;\">\n",
       "      <th></th>\n",
       "      <th>region_type</th>\n",
       "      <th>region</th>\n",
       "    </tr>\n",
       "    <tr>\n",
       "      <th>region_id</th>\n",
       "      <th></th>\n",
       "      <th></th>\n",
       "    </tr>\n",
       "  </thead>\n",
       "  <tbody>\n",
       "    <tr>\n",
       "      <th>4</th>\n",
       "      <td>state</td>\n",
       "      <td>Alabama</td>\n",
       "    </tr>\n",
       "    <tr>\n",
       "      <th>3</th>\n",
       "      <td>state</td>\n",
       "      <td>Alaska</td>\n",
       "    </tr>\n",
       "    <tr>\n",
       "      <th>8</th>\n",
       "      <td>state</td>\n",
       "      <td>Arizona</td>\n",
       "    </tr>\n",
       "    <tr>\n",
       "      <th>6</th>\n",
       "      <td>state</td>\n",
       "      <td>Arkansas</td>\n",
       "    </tr>\n",
       "    <tr>\n",
       "      <th>9</th>\n",
       "      <td>state</td>\n",
       "      <td>California</td>\n",
       "    </tr>\n",
       "    <tr>\n",
       "      <th>10</th>\n",
       "      <td>state</td>\n",
       "      <td>Colorado</td>\n",
       "    </tr>\n",
       "    <tr>\n",
       "      <th>11</th>\n",
       "      <td>state</td>\n",
       "      <td>Connecticut</td>\n",
       "    </tr>\n",
       "    <tr>\n",
       "      <th>13</th>\n",
       "      <td>state</td>\n",
       "      <td>Delaware</td>\n",
       "    </tr>\n",
       "    <tr>\n",
       "      <th>12</th>\n",
       "      <td>state</td>\n",
       "      <td>District of Columbia</td>\n",
       "    </tr>\n",
       "    <tr>\n",
       "      <th>14</th>\n",
       "      <td>state</td>\n",
       "      <td>Florida</td>\n",
       "    </tr>\n",
       "    <tr>\n",
       "      <th>16</th>\n",
       "      <td>state</td>\n",
       "      <td>Georgia</td>\n",
       "    </tr>\n",
       "    <tr>\n",
       "      <th>18</th>\n",
       "      <td>state</td>\n",
       "      <td>Hawaii</td>\n",
       "    </tr>\n",
       "    <tr>\n",
       "      <th>20</th>\n",
       "      <td>state</td>\n",
       "      <td>Idaho</td>\n",
       "    </tr>\n",
       "    <tr>\n",
       "      <th>21</th>\n",
       "      <td>state</td>\n",
       "      <td>Illinois</td>\n",
       "    </tr>\n",
       "    <tr>\n",
       "      <th>22</th>\n",
       "      <td>state</td>\n",
       "      <td>Indiana</td>\n",
       "    </tr>\n",
       "    <tr>\n",
       "      <th>19</th>\n",
       "      <td>state</td>\n",
       "      <td>Iowa</td>\n",
       "    </tr>\n",
       "    <tr>\n",
       "      <th>23</th>\n",
       "      <td>state</td>\n",
       "      <td>Kansas</td>\n",
       "    </tr>\n",
       "    <tr>\n",
       "      <th>24</th>\n",
       "      <td>state</td>\n",
       "      <td>Kentucky</td>\n",
       "    </tr>\n",
       "    <tr>\n",
       "      <th>25</th>\n",
       "      <td>state</td>\n",
       "      <td>Louisiana</td>\n",
       "    </tr>\n",
       "    <tr>\n",
       "      <th>28</th>\n",
       "      <td>state</td>\n",
       "      <td>Maine</td>\n",
       "    </tr>\n",
       "    <tr>\n",
       "      <th>27</th>\n",
       "      <td>state</td>\n",
       "      <td>Maryland</td>\n",
       "    </tr>\n",
       "    <tr>\n",
       "      <th>26</th>\n",
       "      <td>state</td>\n",
       "      <td>Massachusetts</td>\n",
       "    </tr>\n",
       "    <tr>\n",
       "      <th>30</th>\n",
       "      <td>state</td>\n",
       "      <td>Michigan</td>\n",
       "    </tr>\n",
       "    <tr>\n",
       "      <th>31</th>\n",
       "      <td>state</td>\n",
       "      <td>Minnesota</td>\n",
       "    </tr>\n",
       "    <tr>\n",
       "      <th>34</th>\n",
       "      <td>state</td>\n",
       "      <td>Mississippi</td>\n",
       "    </tr>\n",
       "    <tr>\n",
       "      <th>32</th>\n",
       "      <td>state</td>\n",
       "      <td>Missouri</td>\n",
       "    </tr>\n",
       "    <tr>\n",
       "      <th>35</th>\n",
       "      <td>state</td>\n",
       "      <td>Montana</td>\n",
       "    </tr>\n",
       "    <tr>\n",
       "      <th>38</th>\n",
       "      <td>state</td>\n",
       "      <td>Nebraska</td>\n",
       "    </tr>\n",
       "    <tr>\n",
       "      <th>42</th>\n",
       "      <td>state</td>\n",
       "      <td>Nevada</td>\n",
       "    </tr>\n",
       "    <tr>\n",
       "      <th>39</th>\n",
       "      <td>state</td>\n",
       "      <td>New Hampshire</td>\n",
       "    </tr>\n",
       "    <tr>\n",
       "      <th>40</th>\n",
       "      <td>state</td>\n",
       "      <td>New Jersey</td>\n",
       "    </tr>\n",
       "    <tr>\n",
       "      <th>41</th>\n",
       "      <td>state</td>\n",
       "      <td>New Mexico</td>\n",
       "    </tr>\n",
       "    <tr>\n",
       "      <th>43</th>\n",
       "      <td>state</td>\n",
       "      <td>New York</td>\n",
       "    </tr>\n",
       "    <tr>\n",
       "      <th>36</th>\n",
       "      <td>state</td>\n",
       "      <td>North Carolina</td>\n",
       "    </tr>\n",
       "    <tr>\n",
       "      <th>37</th>\n",
       "      <td>state</td>\n",
       "      <td>North Dakota</td>\n",
       "    </tr>\n",
       "    <tr>\n",
       "      <th>44</th>\n",
       "      <td>state</td>\n",
       "      <td>Ohio</td>\n",
       "    </tr>\n",
       "    <tr>\n",
       "      <th>45</th>\n",
       "      <td>state</td>\n",
       "      <td>Oklahoma</td>\n",
       "    </tr>\n",
       "    <tr>\n",
       "      <th>46</th>\n",
       "      <td>state</td>\n",
       "      <td>Oregon</td>\n",
       "    </tr>\n",
       "    <tr>\n",
       "      <th>47</th>\n",
       "      <td>state</td>\n",
       "      <td>Pennsylvania</td>\n",
       "    </tr>\n",
       "    <tr>\n",
       "      <th>50</th>\n",
       "      <td>state</td>\n",
       "      <td>Rhode Island</td>\n",
       "    </tr>\n",
       "    <tr>\n",
       "      <th>51</th>\n",
       "      <td>state</td>\n",
       "      <td>South Carolina</td>\n",
       "    </tr>\n",
       "    <tr>\n",
       "      <th>52</th>\n",
       "      <td>state</td>\n",
       "      <td>South Dakota</td>\n",
       "    </tr>\n",
       "    <tr>\n",
       "      <th>53</th>\n",
       "      <td>state</td>\n",
       "      <td>Tennessee</td>\n",
       "    </tr>\n",
       "    <tr>\n",
       "      <th>54</th>\n",
       "      <td>state</td>\n",
       "      <td>Texas</td>\n",
       "    </tr>\n",
       "    <tr>\n",
       "      <th>55</th>\n",
       "      <td>state</td>\n",
       "      <td>Utah</td>\n",
       "    </tr>\n",
       "    <tr>\n",
       "      <th>58</th>\n",
       "      <td>state</td>\n",
       "      <td>Vermont</td>\n",
       "    </tr>\n",
       "    <tr>\n",
       "      <th>56</th>\n",
       "      <td>state</td>\n",
       "      <td>Virginia</td>\n",
       "    </tr>\n",
       "    <tr>\n",
       "      <th>59</th>\n",
       "      <td>state</td>\n",
       "      <td>Washington</td>\n",
       "    </tr>\n",
       "    <tr>\n",
       "      <th>61</th>\n",
       "      <td>state</td>\n",
       "      <td>West Virginia</td>\n",
       "    </tr>\n",
       "    <tr>\n",
       "      <th>60</th>\n",
       "      <td>state</td>\n",
       "      <td>Wisconsin</td>\n",
       "    </tr>\n",
       "    <tr>\n",
       "      <th>62</th>\n",
       "      <td>state</td>\n",
       "      <td>Wyoming</td>\n",
       "    </tr>\n",
       "  </tbody>\n",
       "</table>\n",
       "</div>"
      ],
      "text/plain": [
       "          region_type                region\n",
       "region_id                                  \n",
       "4               state               Alabama\n",
       "3               state                Alaska\n",
       "8               state               Arizona\n",
       "6               state              Arkansas\n",
       "9               state            California\n",
       "10              state              Colorado\n",
       "11              state           Connecticut\n",
       "13              state              Delaware\n",
       "12              state  District of Columbia\n",
       "14              state               Florida\n",
       "16              state               Georgia\n",
       "18              state                Hawaii\n",
       "20              state                 Idaho\n",
       "21              state              Illinois\n",
       "22              state               Indiana\n",
       "19              state                  Iowa\n",
       "23              state                Kansas\n",
       "24              state              Kentucky\n",
       "25              state             Louisiana\n",
       "28              state                 Maine\n",
       "27              state              Maryland\n",
       "26              state         Massachusetts\n",
       "30              state              Michigan\n",
       "31              state             Minnesota\n",
       "34              state           Mississippi\n",
       "32              state              Missouri\n",
       "35              state               Montana\n",
       "38              state              Nebraska\n",
       "42              state                Nevada\n",
       "39              state         New Hampshire\n",
       "40              state            New Jersey\n",
       "41              state            New Mexico\n",
       "43              state              New York\n",
       "36              state        North Carolina\n",
       "37              state          North Dakota\n",
       "44              state                  Ohio\n",
       "45              state              Oklahoma\n",
       "46              state                Oregon\n",
       "47              state          Pennsylvania\n",
       "50              state          Rhode Island\n",
       "51              state        South Carolina\n",
       "52              state          South Dakota\n",
       "53              state             Tennessee\n",
       "54              state                 Texas\n",
       "55              state                  Utah\n",
       "58              state               Vermont\n",
       "56              state              Virginia\n",
       "59              state            Washington\n",
       "61              state         West Virginia\n",
       "60              state             Wisconsin\n",
       "62              state               Wyoming"
      ]
     },
     "execution_count": 67,
     "metadata": {},
     "output_type": "execute_result"
    }
   ],
   "source": [
    "regions"
   ]
  },
  {
   "cell_type": "markdown",
   "id": "4f4e2935-0f70-4c10-bd90-8ef36242f61a",
   "metadata": {},
   "source": [
    "Just doing states for now. Will need to adjust to allow selection of city, county, and/or zip."
   ]
  },
  {
   "cell_type": "code",
   "execution_count": 21,
   "id": "e3ef0166-3271-443b-897e-ba35d971b292",
   "metadata": {},
   "outputs": [],
   "source": [
    "region_sel = 'California'"
   ]
  },
  {
   "cell_type": "code",
   "execution_count": 38,
   "id": "a150fc45-bb4a-4a1b-b173-c4ec8a3b004e",
   "metadata": {},
   "outputs": [],
   "source": [
    "sel_id = regions.loc[regions['region'] == region_sel].index[0]"
   ]
  },
  {
   "cell_type": "code",
   "execution_count": 40,
   "id": "70efb008-8f43-4d02-83f0-8bddee7208a3",
   "metadata": {},
   "outputs": [
    {
     "data": {
      "text/plain": [
       "'9'"
      ]
     },
     "execution_count": 40,
     "metadata": {},
     "output_type": "execute_result"
    }
   ],
   "source": [
    "sel_id"
   ]
  },
  {
   "cell_type": "code",
   "execution_count": 42,
   "id": "fe6a2ae7-994b-4289-bd8d-305827e56aca",
   "metadata": {},
   "outputs": [],
   "source": [
    "indicators = quandl.get_table('ZILLOW/INDICATORS')\n",
    "indicators = indicators.set_index('indicator_id')"
   ]
  },
  {
   "cell_type": "code",
   "execution_count": 44,
   "id": "b1fc77a0-fd76-4a2c-88a7-56f44ca06c31",
   "metadata": {
    "tags": []
   },
   "outputs": [],
   "source": [
    "indicator_sel = 'ZHVI Single-Family Homes Time Series ($)'"
   ]
  },
  {
   "cell_type": "code",
   "execution_count": 46,
   "id": "a7b26519-5c2d-4365-8fcb-986186fcdcfb",
   "metadata": {},
   "outputs": [],
   "source": [
    "ind_id = indicators.loc[indicators['indicator'] == indicator_sel].index[0]\n"
   ]
  },
  {
   "cell_type": "code",
   "execution_count": 47,
   "id": "97e217ee-198e-472b-8885-0c390901d054",
   "metadata": {},
   "outputs": [
    {
     "data": {
      "text/plain": [
       "'ZSFH'"
      ]
     },
     "execution_count": 47,
     "metadata": {},
     "output_type": "execute_result"
    }
   ],
   "source": [
    "ind_id"
   ]
  },
  {
   "cell_type": "code",
   "execution_count": 58,
   "id": "2cc9aded-ee8f-4ade-adac-f0a5812ec9ad",
   "metadata": {},
   "outputs": [],
   "source": [
    "data = quandl.get_table('ZILLOW/DATA', indicator_id=ind_id,region_id=sel_id)\n",
    "data = data.set_index('date')\n",
    "data = data.sort_values('date')"
   ]
  },
  {
   "cell_type": "code",
   "execution_count": 59,
   "id": "9ec406c0-8bc2-4604-924e-bbf4c96a68b6",
   "metadata": {},
   "outputs": [
    {
     "data": {
      "text/html": [
       "<div>\n",
       "<style scoped>\n",
       "    .dataframe tbody tr th:only-of-type {\n",
       "        vertical-align: middle;\n",
       "    }\n",
       "\n",
       "    .dataframe tbody tr th {\n",
       "        vertical-align: top;\n",
       "    }\n",
       "\n",
       "    .dataframe thead th {\n",
       "        text-align: right;\n",
       "    }\n",
       "</style>\n",
       "<table border=\"1\" class=\"dataframe\">\n",
       "  <thead>\n",
       "    <tr style=\"text-align: right;\">\n",
       "      <th></th>\n",
       "      <th>indicator_id</th>\n",
       "      <th>region_id</th>\n",
       "      <th>value</th>\n",
       "    </tr>\n",
       "    <tr>\n",
       "      <th>date</th>\n",
       "      <th></th>\n",
       "      <th></th>\n",
       "      <th></th>\n",
       "    </tr>\n",
       "  </thead>\n",
       "  <tbody>\n",
       "    <tr>\n",
       "      <th>1996-01-31</th>\n",
       "      <td>ZSFH</td>\n",
       "      <td>9</td>\n",
       "      <td>164835.000000</td>\n",
       "    </tr>\n",
       "    <tr>\n",
       "      <th>1996-02-29</th>\n",
       "      <td>ZSFH</td>\n",
       "      <td>9</td>\n",
       "      <td>164607.000000</td>\n",
       "    </tr>\n",
       "    <tr>\n",
       "      <th>1996-03-31</th>\n",
       "      <td>ZSFH</td>\n",
       "      <td>9</td>\n",
       "      <td>164467.000000</td>\n",
       "    </tr>\n",
       "    <tr>\n",
       "      <th>1996-04-30</th>\n",
       "      <td>ZSFH</td>\n",
       "      <td>9</td>\n",
       "      <td>164193.000000</td>\n",
       "    </tr>\n",
       "    <tr>\n",
       "      <th>1996-05-31</th>\n",
       "      <td>ZSFH</td>\n",
       "      <td>9</td>\n",
       "      <td>164016.000000</td>\n",
       "    </tr>\n",
       "    <tr>\n",
       "      <th>...</th>\n",
       "      <td>...</td>\n",
       "      <td>...</td>\n",
       "      <td>...</td>\n",
       "    </tr>\n",
       "    <tr>\n",
       "      <th>2023-04-30</th>\n",
       "      <td>ZSFH</td>\n",
       "      <td>9</td>\n",
       "      <td>739819.812689</td>\n",
       "    </tr>\n",
       "    <tr>\n",
       "      <th>2023-05-31</th>\n",
       "      <td>ZSFH</td>\n",
       "      <td>9</td>\n",
       "      <td>743166.386111</td>\n",
       "    </tr>\n",
       "    <tr>\n",
       "      <th>2023-06-30</th>\n",
       "      <td>ZSFH</td>\n",
       "      <td>9</td>\n",
       "      <td>748796.698345</td>\n",
       "    </tr>\n",
       "    <tr>\n",
       "      <th>2023-07-31</th>\n",
       "      <td>ZSFH</td>\n",
       "      <td>9</td>\n",
       "      <td>756331.350173</td>\n",
       "    </tr>\n",
       "    <tr>\n",
       "      <th>2023-08-31</th>\n",
       "      <td>ZSFH</td>\n",
       "      <td>9</td>\n",
       "      <td>764721.536470</td>\n",
       "    </tr>\n",
       "  </tbody>\n",
       "</table>\n",
       "<p>332 rows × 3 columns</p>\n",
       "</div>"
      ],
      "text/plain": [
       "           indicator_id region_id          value\n",
       "date                                            \n",
       "1996-01-31         ZSFH         9  164835.000000\n",
       "1996-02-29         ZSFH         9  164607.000000\n",
       "1996-03-31         ZSFH         9  164467.000000\n",
       "1996-04-30         ZSFH         9  164193.000000\n",
       "1996-05-31         ZSFH         9  164016.000000\n",
       "...                 ...       ...            ...\n",
       "2023-04-30         ZSFH         9  739819.812689\n",
       "2023-05-31         ZSFH         9  743166.386111\n",
       "2023-06-30         ZSFH         9  748796.698345\n",
       "2023-07-31         ZSFH         9  756331.350173\n",
       "2023-08-31         ZSFH         9  764721.536470\n",
       "\n",
       "[332 rows x 3 columns]"
      ]
     },
     "execution_count": 59,
     "metadata": {},
     "output_type": "execute_result"
    }
   ],
   "source": [
    "data"
   ]
  },
  {
   "cell_type": "code",
   "execution_count": 62,
   "id": "faca5d12-94b5-4971-8471-7556eef20132",
   "metadata": {},
   "outputs": [],
   "source": [
    "data_values = data['value']"
   ]
  },
  {
   "cell_type": "code",
   "execution_count": 63,
   "id": "31675d77-2edb-4cbe-9b60-9883d6844c6b",
   "metadata": {},
   "outputs": [
    {
     "data": {
      "text/plain": [
       "date\n",
       "1996-01-31    164835.000000\n",
       "1996-02-29    164607.000000\n",
       "1996-03-31    164467.000000\n",
       "1996-04-30    164193.000000\n",
       "1996-05-31    164016.000000\n",
       "                  ...      \n",
       "2023-04-30    739819.812689\n",
       "2023-05-31    743166.386111\n",
       "2023-06-30    748796.698345\n",
       "2023-07-31    756331.350173\n",
       "2023-08-31    764721.536470\n",
       "Name: value, Length: 332, dtype: float64"
      ]
     },
     "execution_count": 63,
     "metadata": {},
     "output_type": "execute_result"
    }
   ],
   "source": [
    "data_values"
   ]
  },
  {
   "cell_type": "code",
   "execution_count": 78,
   "id": "4079de38-ce01-4fe8-aedd-c4c65d9e5429",
   "metadata": {},
   "outputs": [
    {
     "data": {
      "text/plain": [
       "3.6393152938983895"
      ]
     },
     "execution_count": 78,
     "metadata": {},
     "output_type": "execute_result"
    }
   ],
   "source": [
    "total_period_appreciation = (data_values[-1] - data_values[0]) / data_values[0]\n",
    "total_period_appreciation"
   ]
  },
  {
   "cell_type": "code",
   "execution_count": null,
   "id": "97eaf71c-e9f3-465f-abe0-d09b2ddf898f",
   "metadata": {},
   "outputs": [],
   "source": []
  },
  {
   "cell_type": "code",
   "execution_count": 91,
   "id": "90135a71-3683-4f87-a4dd-0a5d824e8777",
   "metadata": {},
   "outputs": [],
   "source": [
    "num_years = round(len(data_values.resample('M').sum())/12,1)\n"
   ]
  },
  {
   "cell_type": "code",
   "execution_count": 92,
   "id": "f9fb8bc1-1893-4fe1-8f5f-31fd5a8c782f",
   "metadata": {},
   "outputs": [
    {
     "data": {
      "text/plain": [
       "27.7"
      ]
     },
     "execution_count": 92,
     "metadata": {},
     "output_type": "execute_result"
    }
   ],
   "source": [
    "num_years"
   ]
  },
  {
   "cell_type": "code",
   "execution_count": 83,
   "id": "a9e8117b-8e46-4614-83b1-140c0d3160d3",
   "metadata": {},
   "outputs": [],
   "source": [
    "annualized_appreciation_percentage = (total_period_appreciation**(1 / num_years)) - 1\n"
   ]
  },
  {
   "cell_type": "code",
   "execution_count": 84,
   "id": "5244d34b-3aad-4d6a-96d9-5c945df73ef1",
   "metadata": {},
   "outputs": [
    {
     "data": {
      "text/plain": [
       "0.04779861451029288"
      ]
     },
     "execution_count": 84,
     "metadata": {},
     "output_type": "execute_result"
    }
   ],
   "source": [
    "annualized_appreciation_percentage"
   ]
  },
  {
   "cell_type": "code",
   "execution_count": 87,
   "id": "6c92052e-5769-41f4-ba42-a4bbf895f081",
   "metadata": {},
   "outputs": [],
   "source": [
    "t24mo_app = (data_values[-1] - data_values[-24]) / data_values[-24]"
   ]
  },
  {
   "cell_type": "code",
   "execution_count": 88,
   "id": "7ca948e4-d059-44c6-ab52-9e6846b2a62c",
   "metadata": {},
   "outputs": [
    {
     "data": {
      "text/plain": [
       "0.08911728854203248"
      ]
     },
     "execution_count": 88,
     "metadata": {},
     "output_type": "execute_result"
    }
   ],
   "source": [
    "t24mo_app"
   ]
  },
  {
   "cell_type": "code",
   "execution_count": 89,
   "id": "3b3af9e1-db8b-4aca-9af2-2774f33e925f",
   "metadata": {},
   "outputs": [],
   "source": [
    "t12mo_app = (data_values[-1] - data_values[-12]) / data_values[-12]"
   ]
  },
  {
   "cell_type": "code",
   "execution_count": 90,
   "id": "8e572ace-a267-4860-98c6-58d8ab2e4fce",
   "metadata": {},
   "outputs": [
    {
     "data": {
      "text/plain": [
       "-0.017548188706267186"
      ]
     },
     "execution_count": 90,
     "metadata": {},
     "output_type": "execute_result"
    }
   ],
   "source": [
    "t12mo_app"
   ]
  },
  {
   "cell_type": "code",
   "execution_count": null,
   "id": "047d8e82-afca-4dae-ade7-af671227fae0",
   "metadata": {},
   "outputs": [],
   "source": []
  }
 ],
 "metadata": {
  "kernelspec": {
   "display_name": "Python 3 (ipykernel)",
   "language": "python",
   "name": "python3"
  },
  "language_info": {
   "codemirror_mode": {
    "name": "ipython",
    "version": 3
   },
   "file_extension": ".py",
   "mimetype": "text/x-python",
   "name": "python",
   "nbconvert_exporter": "python",
   "pygments_lexer": "ipython3",
   "version": "3.10.10"
  }
 },
 "nbformat": 4,
 "nbformat_minor": 5
}
