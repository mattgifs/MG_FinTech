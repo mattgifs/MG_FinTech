{
 "cells": [
  {
   "cell_type": "code",
   "execution_count": 33,
   "id": "d50fadce-cec6-4669-a204-ec248b60751f",
   "metadata": {},
   "outputs": [],
   "source": [
    "#import libraries\n",
    "import pandas as pd\n",
    "%matplotlib inline"
   ]
  },
  {
   "cell_type": "code",
   "execution_count": 34,
   "id": "5e5c51ed-c9f2-4993-a8c3-59de67f981c1",
   "metadata": {},
   "outputs": [
    {
     "name": "stdin",
     "output_type": "stream",
     "text": [
      "Enter number:  1\n",
      "Enter number:  2\n",
      "Enter number:  3\n",
      "Enter number:  4\n",
      "Enter number:  5\n"
     ]
    },
    {
     "name": "stdout",
     "output_type": "stream",
     "text": [
      "Max Comp Rent: $5.0\n",
      "Average Rent of Comps is $3.0\n",
      "Min Comp Rent: $1.0\n",
      "Comps Included: 5\n"
     ]
    },
    {
     "ename": "AttributeError",
     "evalue": "'list' object has no attribute 'plot'",
     "output_type": "error",
     "traceback": [
      "\u001b[1;31m---------------------------------------------------------------------------\u001b[0m",
      "\u001b[1;31mAttributeError\u001b[0m                            Traceback (most recent call last)",
      "Cell \u001b[1;32mIn[34], line 43\u001b[0m\n\u001b[0;32m     40\u001b[0m \u001b[38;5;28mprint\u001b[39m(\u001b[38;5;124mf\u001b[39m\u001b[38;5;124m'\u001b[39m\u001b[38;5;124mMin Comp Rent: $\u001b[39m\u001b[38;5;132;01m{\u001b[39;00mmin_comp\u001b[38;5;132;01m}\u001b[39;00m\u001b[38;5;124m'\u001b[39m)\n\u001b[0;32m     41\u001b[0m \u001b[38;5;28mprint\u001b[39m(\u001b[38;5;124mf\u001b[39m\u001b[38;5;124m'\u001b[39m\u001b[38;5;124mComps Included: \u001b[39m\u001b[38;5;132;01m{\u001b[39;00mlen_comp\u001b[38;5;132;01m}\u001b[39;00m\u001b[38;5;124m'\u001b[39m)\n\u001b[1;32m---> 43\u001b[0m \u001b[43mcomparable_list\u001b[49m\u001b[38;5;241;43m.\u001b[39;49m\u001b[43mplot\u001b[49m()\n",
      "\u001b[1;31mAttributeError\u001b[0m: 'list' object has no attribute 'plot'"
     ]
    }
   ],
   "source": [
    "#Initialize empty list for Comparable Rents (user input)\n",
    "comparable_list = []\n",
    "\n",
    "#initialize vars\n",
    "sum_comp = 0\n",
    "min_comp = 100000\n",
    "max_comp = 0\n",
    "len_comp = 0\n",
    "\n",
    "#for loop - 5 values entered\n",
    "for i in range(0,5):\n",
    "    \n",
    "    #input as float\n",
    "    s = float(input(\"Enter number: \"))\n",
    "    \n",
    "    #append to list\n",
    "    comparable_list.append(s)\n",
    "    \n",
    "    #sum floats\n",
    "    sum_comp = sum_comp + s    #or use sum_comp += s\n",
    "    \n",
    "    #count inputs\n",
    "    len_comp += 1\n",
    "    \n",
    "    #find min\n",
    "    if s == 100000:\n",
    "        min_comp = s\n",
    "    elif s < min_comp:\n",
    "        min_comp = s\n",
    "    \n",
    "    #find max\n",
    "    if s == 0:\n",
    "        max_comp = s\n",
    "    elif s > max_comp:\n",
    "        max_comp = s\n",
    "        \n",
    "avg_comp = sum_comp / len_comp\n",
    "print(f'Max Comp Rent: ${max_comp}')\n",
    "print(f'Average Rent of Comps is ${avg_comp}')\n",
    "print(f'Min Comp Rent: ${min_comp}')\n",
    "print(f'Comps Included: {len_comp}')\n"
   ]
  },
  {
   "cell_type": "code",
   "execution_count": null,
   "id": "23aca665-c5ab-4a73-a848-61f6d755dcd8",
   "metadata": {},
   "outputs": [],
   "source": [
    "comparable_list.plot("
   ]
  }
 ],
 "metadata": {
  "kernelspec": {
   "display_name": "Python 3 (ipykernel)",
   "language": "python",
   "name": "python3"
  },
  "language_info": {
   "codemirror_mode": {
    "name": "ipython",
    "version": 3
   },
   "file_extension": ".py",
   "mimetype": "text/x-python",
   "name": "python",
   "nbconvert_exporter": "python",
   "pygments_lexer": "ipython3",
   "version": "3.10.10"
  }
 },
 "nbformat": 4,
 "nbformat_minor": 5
}
