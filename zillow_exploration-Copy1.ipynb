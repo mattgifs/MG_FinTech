{
 "cells": [
  {
   "cell_type": "code",
   "execution_count": 1,
   "id": "5a8c4166-bfeb-4e5d-a173-95aeb90fe8b3",
   "metadata": {},
   "outputs": [],
   "source": [
    "# Initial imports\n",
    "import os\n",
    "import requests\n",
    "import pandas as pd\n",
    "from dotenv import load_dotenv\n",
    "import json\n",
    "import time\n",
    "\n",
    "%matplotlib inline"
   ]
  },
  {
   "cell_type": "code",
   "execution_count": 2,
   "id": "a868280e-4d51-493d-a790-6812737e10ba",
   "metadata": {},
   "outputs": [
    {
     "data": {
      "text/plain": [
       "True"
      ]
     },
     "execution_count": 2,
     "metadata": {},
     "output_type": "execute_result"
    }
   ],
   "source": [
    "# Load .env enviroment variables\n",
    "load_dotenv()"
   ]
  },
  {
   "cell_type": "code",
   "execution_count": 3,
   "id": "017e9b06-5586-43b4-8af9-bfd3d93ff9e8",
   "metadata": {},
   "outputs": [],
   "source": [
    "#Zillow API URLs\n",
    "NASDAQ_API_KEY = '?&api_key=Hxc-vj2V4iBzuusYo__Q'\n",
    "json_mod = '?format=json'\n",
    "\n",
    "indicators_url = 'https://data.nasdaq.com/api/v3/datatables/ZILLOW/INDICATORS'\n",
    "data_url = 'https://data.nasdaq.com/api/v3/datatables/ZILLOW/DATA'\n",
    "regions_url = 'https://data.nasdaq.com/api/v3/datatables/ZILLOW/REGIONS'\n",
    "\n",
    "indicators_url = indicators_url + NASDAQ_API_KEY + json_mod\n",
    "data_url = data_url + NASDAQ_API_KEY + json_mod\n",
    "regions_url = regions_url + NASDAQ_API_KEY + json_mod"
   ]
  },
  {
   "cell_type": "code",
   "execution_count": 4,
   "id": "2e24fe4e-f88b-425a-9b48-74d073c46fb1",
   "metadata": {},
   "outputs": [
    {
     "data": {
      "text/plain": [
       "'https://data.nasdaq.com/api/v3/datatables/ZILLOW/INDICATORS?&api_key=Hxc-vj2V4iBzuusYo__Q?format=json'"
      ]
     },
     "execution_count": 4,
     "metadata": {},
     "output_type": "execute_result"
    }
   ],
   "source": [
    "indicators_url"
   ]
  },
  {
   "cell_type": "code",
   "execution_count": 10,
   "id": "eecc3cd5-d88c-4233-96e5-554496959093",
   "metadata": {
    "tags": []
   },
   "outputs": [
    {
     "data": {
      "text/html": [
       "<div>\n",
       "<style scoped>\n",
       "    .dataframe tbody tr th:only-of-type {\n",
       "        vertical-align: middle;\n",
       "    }\n",
       "\n",
       "    .dataframe tbody tr th {\n",
       "        vertical-align: top;\n",
       "    }\n",
       "\n",
       "    .dataframe thead th {\n",
       "        text-align: right;\n",
       "    }\n",
       "</style>\n",
       "<table border=\"1\" class=\"dataframe\">\n",
       "  <thead>\n",
       "    <tr style=\"text-align: right;\">\n",
       "      <th></th>\n",
       "      <th>ind_full</th>\n",
       "      <th>ind_desc</th>\n",
       "    </tr>\n",
       "    <tr>\n",
       "      <th>ind_code</th>\n",
       "      <th></th>\n",
       "      <th></th>\n",
       "    </tr>\n",
       "  </thead>\n",
       "  <tbody>\n",
       "    <tr>\n",
       "      <th>ZSFH</th>\n",
       "      <td>ZHVI Single-Family Homes Time Series ($)</td>\n",
       "      <td>Home values</td>\n",
       "    </tr>\n",
       "    <tr>\n",
       "      <th>ZCON</th>\n",
       "      <td>ZHVI Condo/Co-op Time Series ($)</td>\n",
       "      <td>Home values</td>\n",
       "    </tr>\n",
       "    <tr>\n",
       "      <th>ZATT</th>\n",
       "      <td>ZHVI All Homes- Top Tier Time Series ($)</td>\n",
       "      <td>Home values</td>\n",
       "    </tr>\n",
       "    <tr>\n",
       "      <th>ZALL</th>\n",
       "      <td>ZHVI All Homes (SFR, Condo/Co-op) Time Series ($)</td>\n",
       "      <td>Home values</td>\n",
       "    </tr>\n",
       "    <tr>\n",
       "      <th>ZABT</th>\n",
       "      <td>ZHVI All Homes- Bottom Tier Time Series ($)</td>\n",
       "      <td>Home values</td>\n",
       "    </tr>\n",
       "  </tbody>\n",
       "</table>\n",
       "</div>"
      ],
      "text/plain": [
       "                                                   ind_full     ind_desc\n",
       "ind_code                                                                \n",
       "ZSFH               ZHVI Single-Family Homes Time Series ($)  Home values\n",
       "ZCON                       ZHVI Condo/Co-op Time Series ($)  Home values\n",
       "ZATT               ZHVI All Homes- Top Tier Time Series ($)  Home values\n",
       "ZALL      ZHVI All Homes (SFR, Condo/Co-op) Time Series ($)  Home values\n",
       "ZABT            ZHVI All Homes- Bottom Tier Time Series ($)  Home values"
      ]
     },
     "execution_count": 10,
     "metadata": {},
     "output_type": "execute_result"
    }
   ],
   "source": [
    "# Fetch and format indicator table\n",
    "#API get\n",
    "ind_response = requests.get(indicators_url)\n",
    "\n",
    "#retreive data as json\n",
    "ind_response_data = ind_response.json()\n",
    "\n",
    "#json dump to enable use in dataframe\n",
    "ind_response_dump = json.dumps(ind_response_data['datatable']['data'])\n",
    "\n",
    "#read into dataframe\n",
    "df_indicators = pd.read_json(ind_response_dump)\n",
    "\n",
    "#set column names\n",
    "df_indicators.columns = ['ind_code','ind_full','ind_desc']\n",
    "\n",
    "#set index to unique ind_code\n",
    "df_indicators.set_index('ind_code', inplace=True)\n",
    "\n",
    "#preview df\n",
    "df_indicators.head()"
   ]
  },
  {
   "cell_type": "code",
   "execution_count": null,
   "id": "a8df893b-3ab2-4de0-866c-14f62a25ba8e",
   "metadata": {
    "jupyter": {
     "source_hidden": true
    },
    "tags": []
   },
   "outputs": [],
   "source": [
    "'''\n",
    "# Fetch and format regions table\n",
    "#API get\n",
    "reg_response = requests.get(regions_url)\n",
    "\n",
    "#retreive data as json\n",
    "reg_response_data = reg_response.json()\n",
    "\n",
    "#json dump to enable use in dataframe\n",
    "reg_response_dump = json.dumps(reg_response_data['datatable']['data'])\n",
    "\n",
    "#read into dataframe\n",
    "df_regions = pd.read_json(reg_response_dump)\n",
    "\n",
    "'''\n",
    "May have to split these into different dataframes if there is data overlap between zips,\n",
    "cities, counties, etc. \n",
    "\n",
    "'''\n",
    "#set column names\n",
    "df_regions.columns = ['place_code','place_type','place_detail']\n",
    "\n",
    "#set index to place_code\n",
    "df_regions.set_index('place_code', inplace=True)\n",
    "\n",
    "#preview df\n",
    "df_regions.head()\n",
    "'''"
   ]
  },
  {
   "cell_type": "code",
   "execution_count": null,
   "id": "c769d64c-a6ca-43df-905f-2b5b6d1c4cf3",
   "metadata": {
    "jupyter": {
     "source_hidden": true
    },
    "tags": []
   },
   "outputs": [],
   "source": [
    "'''\n",
    "# Fetch and format data table\n",
    "#API get\n",
    "data_response = requests.get(data_url)\n",
    "\n",
    "#retreive data as json\n",
    "data_response_data = data_response.json()\n",
    "\n",
    "#json dump to enable use in dataframe\n",
    "data_response_dump = json.dumps(data_response_data['datatable']['data'])\n",
    "\n",
    "#read into dataframe\n",
    "df_data = pd.read_json(data_response_dump)\n",
    "\n",
    "#set column names\n",
    "df_data.columns = ['ind_code','place_code','date','value']\n",
    "\n",
    "'''\n",
    "not setting index... may have to do multiindex of (ind_code,'place_code','date')\n",
    "or may end up splitting into different dfs based on ind_code\n",
    "'''\n",
    "#set index to place_code\n",
    "#df_data.set_index('place_code', inplace=True)\n",
    "\n",
    "#preview df\n",
    "df_data.head()\n",
    "\n",
    "'''"
   ]
  },
  {
   "cell_type": "code",
   "execution_count": 13,
   "id": "26a163fa-c4be-4423-95f5-839108984b7a",
   "metadata": {},
   "outputs": [
    {
     "ename": "ValueError",
     "evalue": "DataFrame constructor not properly called!",
     "output_type": "error",
     "traceback": [
      "\u001b[1;31m---------------------------------------------------------------------------\u001b[0m",
      "\u001b[1;31mValueError\u001b[0m                                Traceback (most recent call last)",
      "Cell \u001b[1;32mIn[13], line 43\u001b[0m\n\u001b[0;32m     40\u001b[0m dump \u001b[38;5;241m=\u001b[39m json\u001b[38;5;241m.\u001b[39mdumps(data)\n\u001b[0;32m     42\u001b[0m \u001b[38;5;66;03m# Convert the data to a DataFrame and append it to the main DataFrame\u001b[39;00m\n\u001b[1;32m---> 43\u001b[0m data_df \u001b[38;5;241m=\u001b[39m \u001b[43mpd\u001b[49m\u001b[38;5;241;43m.\u001b[39;49m\u001b[43mDataFrame\u001b[49m\u001b[43m(\u001b[49m\u001b[43mdata\u001b[49m\u001b[38;5;241;43m=\u001b[39;49m\u001b[43mdump\u001b[49m\u001b[43m)\u001b[49m\n\u001b[0;32m     44\u001b[0m df_regions \u001b[38;5;241m=\u001b[39m df_regions\u001b[38;5;241m.\u001b[39mappend(data_df, ignore_index\u001b[38;5;241m=\u001b[39m\u001b[38;5;28;01mTrue\u001b[39;00m)\n\u001b[0;32m     46\u001b[0m \u001b[38;5;66;03m# Update the range of data to retrieve for the next API call\u001b[39;00m\n",
      "File \u001b[1;32m~\\anaconda3\\envs\\alpacaenv\\lib\\site-packages\\pandas\\core\\frame.py:781\u001b[0m, in \u001b[0;36mDataFrame.__init__\u001b[1;34m(self, data, index, columns, dtype, copy)\u001b[0m\n\u001b[0;32m    778\u001b[0m \u001b[38;5;66;03m# For data is scalar\u001b[39;00m\n\u001b[0;32m    779\u001b[0m \u001b[38;5;28;01melse\u001b[39;00m:\n\u001b[0;32m    780\u001b[0m     \u001b[38;5;28;01mif\u001b[39;00m index \u001b[38;5;129;01mis\u001b[39;00m \u001b[38;5;28;01mNone\u001b[39;00m \u001b[38;5;129;01mor\u001b[39;00m columns \u001b[38;5;129;01mis\u001b[39;00m \u001b[38;5;28;01mNone\u001b[39;00m:\n\u001b[1;32m--> 781\u001b[0m         \u001b[38;5;28;01mraise\u001b[39;00m \u001b[38;5;167;01mValueError\u001b[39;00m(\u001b[38;5;124m\"\u001b[39m\u001b[38;5;124mDataFrame constructor not properly called!\u001b[39m\u001b[38;5;124m\"\u001b[39m)\n\u001b[0;32m    783\u001b[0m     index \u001b[38;5;241m=\u001b[39m ensure_index(index)\n\u001b[0;32m    784\u001b[0m     columns \u001b[38;5;241m=\u001b[39m ensure_index(columns)\n",
      "\u001b[1;31mValueError\u001b[0m: DataFrame constructor not properly called!"
     ]
    }
   ],
   "source": [
    "#import requests\n",
    "#import json\n",
    "#import time\n",
    "\n",
    "# Set the API endpoint URL\n",
    "url = regions_url\n",
    "\n",
    "# Set the number of API calls to make per minute\n",
    "calls_per_minute = 20\n",
    "\n",
    "# Set the number of seconds to wait between each API call\n",
    "time_between_calls = 60 / calls_per_minute\n",
    "\n",
    "# Set the range of data to retrieve in each API call\n",
    "data_range_start = 0\n",
    "data_range_end = 10000\n",
    "\n",
    "#create empty dataframe to store called data\n",
    "\n",
    "df_regions = pd.DataFrame()\n",
    "\n",
    "#initialize count var for limiting calls made by while loop\n",
    "count = 0\n",
    "\n",
    "#initialize count var for limiting calls made by while loop\n",
    "limit = 5\n",
    "\n",
    "# Loop through the API calls\n",
    "while count < limit:\n",
    "    # Set the query parameters for the API call\n",
    "    params = {\"start\": data_range_start, \"end\": data_range_end}\n",
    "\n",
    "    # Make the API call\n",
    "    response = requests.get(url, params=params)\n",
    "\n",
    "    #retreive data as json\n",
    "    data = response.json()\n",
    "    \n",
    "    #json dump to enable use in dataframe\n",
    "    dump = json.dumps(data)\n",
    "    \n",
    "    # Convert the data to a DataFrame and append it to the main DataFrame\n",
    "    data_df = pd.DataFrame(data=dump)\n",
    "    df_regions = df_regions.append(data_df, ignore_index=True)\n",
    "\n",
    "    # Update the range of data to retrieve for the next API call\n",
    "    data_range_start = data_range_end\n",
    "    data_range_end += 10000\n",
    "\n",
    "    # Check if we've retrieved all the data we need\n",
    "    #if data == []:\n",
    "    #    break\n",
    "    \n",
    "    #Set limit to run only 'count' times\n",
    "    count = count + 1\n",
    "    \n",
    "    # Pause the program for the specified number of seconds\n",
    "    time.sleep(time_between_calls)\n",
    "    \n",
    "    \n",
    "'''\n",
    "#API get\n",
    "ind_response = requests.get(indicators_url)\n",
    "\n",
    "#retreive data as json\n",
    "ind_response_data = ind_response.json()\n",
    "\n",
    "#json dump to enable use in dataframe\n",
    "ind_response_dump = json.dumps(ind_response_data['datatable']['data'])\n",
    "\n",
    "#read into dataframe\n",
    "df_indicators = pd.read_json(ind_response_dump)\n",
    "'''\n"
   ]
  },
  {
   "cell_type": "code",
   "execution_count": null,
   "id": "d90b2004-3add-43c8-be2e-d6face52cd32",
   "metadata": {
    "jupyter": {
     "source_hidden": true
    },
    "tags": []
   },
   "outputs": [],
   "source": [
    "zsfh = df_data[df_data['ind_code']=='ZSFH']"
   ]
  },
  {
   "cell_type": "code",
   "execution_count": null,
   "id": "b2e1af15-9d09-4f0f-ac4f-3988c20d8248",
   "metadata": {
    "jupyter": {
     "source_hidden": true
    },
    "tags": []
   },
   "outputs": [],
   "source": [
    "zsfh.value_counts('ind_code')"
   ]
  },
  {
   "cell_type": "code",
   "execution_count": null,
   "id": "e3ff0fba-3134-497e-92e4-cf371ab8d8c9",
   "metadata": {
    "jupyter": {
     "source_hidden": true
    },
    "tags": []
   },
   "outputs": [],
   "source": [
    "df_data.value_counts('ind_code')"
   ]
  },
  {
   "cell_type": "code",
   "execution_count": null,
   "id": "40fba1a9-ee03-4218-8cc5-ed427bb2d660",
   "metadata": {},
   "outputs": [],
   "source": [
    "#df_data and zsfh have the same number of records, and all records use ind_code ZSFH\n",
    "#I think this means that the df_data request only got 10000 records\n",
    "#must have to make multiple calls to get more data\n",
    "#OR they only allow free access to 10k records \n",
    "\n",
    "#regions only has 10k records as well\n",
    "\n",
    "#Will have to call < 20 times per 10 minutes"
   ]
  },
  {
   "cell_type": "code",
   "execution_count": 14,
   "id": "3b17802e-614f-443a-a207-343e2e46e64a",
   "metadata": {},
   "outputs": [
    {
     "data": {
      "text/plain": [
       "'{\"quandl_error\": {\"code\": \"QESx08\", \"message\": \"You cannot use start column as a filter.\"}}'"
      ]
     },
     "execution_count": 14,
     "metadata": {},
     "output_type": "execute_result"
    }
   ],
   "source": [
    "dump"
   ]
  },
  {
   "cell_type": "code",
   "execution_count": null,
   "id": "f9054bb6-1370-422b-9727-3b3d52123a1c",
   "metadata": {
    "jupyter": {
     "source_hidden": true
    },
    "tags": []
   },
   "outputs": [],
   "source": [
    "site = data_url\n",
    "\n",
    "for i in range(1,50):\n",
    "    loop_data_response = requests.get(site)\n",
    "    print('run')\n",
    "\n",
    "'''\n",
    "#API get\n",
    "data_response = requests.get(data_url)\n",
    "\n",
    "#retreive data as json\n",
    "data_response_data = data_response.json()\n",
    "\n",
    "#json dump to enable use in dataframe\n",
    "data_response_dump = json.dumps(data_response_data['datatable']['data'])\n",
    "'''"
   ]
  },
  {
   "cell_type": "code",
   "execution_count": null,
   "id": "531d9845-cec2-4e0e-9202-6f02f6ebd61d",
   "metadata": {},
   "outputs": [],
   "source": []
  }
 ],
 "metadata": {
  "kernelspec": {
   "display_name": "Python 3 (ipykernel)",
   "language": "python",
   "name": "python3"
  },
  "language_info": {
   "codemirror_mode": {
    "name": "ipython",
    "version": 3
   },
   "file_extension": ".py",
   "mimetype": "text/x-python",
   "name": "python",
   "nbconvert_exporter": "python",
   "pygments_lexer": "ipython3",
   "version": "3.10.10"
  }
 },
 "nbformat": 4,
 "nbformat_minor": 5
}
